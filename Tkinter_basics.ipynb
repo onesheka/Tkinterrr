{
 "cells": [
  {
   "cell_type": "markdown",
   "metadata": {},
   "source": [
    "### Tkinter --> Used to make GUI interfaces"
   ]
  },
  {
   "cell_type": "code",
   "execution_count": 5,
   "metadata": {},
   "outputs": [],
   "source": [
    "from tkinter import *  # importing evrything from tkinter\n",
    "root = Tk()           ##### basically like a blank window where all our widgets are going to be displayed\n",
    "theLabel = Label(root,text=\"Tkinter is too easy!\")  #### TExt/label for the window, passing \"window\", text\n",
    "theLabel.pack() ### for displaying options\n",
    "root.mainloop() ###to keep the screen even after the execution"
   ]
  },
  {
   "cell_type": "markdown",
   "metadata": {},
   "source": [
    "### Organizing the layout"
   ]
  },
  {
   "cell_type": "code",
   "execution_count": 17,
   "metadata": {},
   "outputs": [],
   "source": [
    "from tkinter import *\n",
    "root = Tk()\n",
    "\n",
    "topFrame = Frame(root) ## defining the frames\n",
    "topFrame.pack()          ## setting them/positioning them on the window(here root)\n",
    "bottomFrame = Frame(root)\n",
    "bottomFrame.pack()\n",
    "\n",
    "Button1 = Button(topFrame,text = \"Button1\",fg=\"red\") ## Creating a button widget, passing frame to be displayed on,text and text colot\n",
    "Button2 = Button(topFrame,text = \"Button2\",fg=\"blue\")\n",
    "Button3 = Button(topFrame,text=\"Button3\",fg=\"purple\")\n",
    "Button4 = Button(bottomFrame,text=\"Button4\",fg=\"green\")\n",
    "\n",
    "Button1.pack(side = LEFT) # setting the buttons and positioning them in one line \n",
    "Button2.pack(side = LEFT)\n",
    "Button3.pack(side = LEFT)\n",
    "Button4.pack(side = BOTTOM) \n",
    "\n",
    "root.mainloop()\n"
   ]
  },
  {
   "cell_type": "markdown",
   "metadata": {},
   "source": [
    "### Fitting widgets in the layout"
   ]
  },
  {
   "cell_type": "code",
   "execution_count": 20,
   "metadata": {},
   "outputs": [],
   "source": [
    "from tkinter import *\n",
    "root = Tk()\n",
    "one = Label(root, text=\"One\", bg=\"red\", fg = \"white\")\n",
    "one.pack()\n",
    "\n",
    "two = Label(root, text = \"Two\", bg=\"green\", fg=\"black\")\n",
    "two.pack(fill = X) ### will be dynamic at the X axis\n",
    "\n",
    "three = Label(root, text = \"Three\", bg=\"blue\", fg=\"white\")\n",
    "three.pack(side=LEFT,fill = Y) ## will be dynamic at the Y axis\n",
    "root.mainloop()"
   ]
  },
  {
   "cell_type": "markdown",
   "metadata": {},
   "source": [
    "### Grid Layout and creating a checkbox"
   ]
  },
  {
   "cell_type": "code",
   "execution_count": 30,
   "metadata": {},
   "outputs": [],
   "source": [
    "from tkinter import *\n",
    "root = Tk()\n",
    "\n",
    "label_1 = Label(root, text = \"Name\")\n",
    "label_2 = Label(root, text = \"Password\")\n",
    "entry_1 = Entry(root) ## to take the input from the user\n",
    "entry_2 = Entry(root)\n",
    "\n",
    "label_1.grid(row =0, sticky = E) ## to stick the text towards right(E-->east(right), W--west, N--North, S--south)\n",
    "label_2.grid(row = 1, sticky = E)\n",
    "entry_1.grid(row =0,column = 1) ##grid is like excel rows and columns\n",
    "entry_2.grid(row = 1, column = 1)\n",
    "\n",
    "c = Checkbutton(root, text = \"Keep me logged in\") ## created the checkbox/ checkbutton\n",
    "c.grid(columnspan = 2) ##merged two 2 columns to display text in the center\n",
    "root.mainloop()"
   ]
  },
  {
   "cell_type": "markdown",
   "metadata": {},
   "source": [
    "### Binding Functions to the widgets"
   ]
  },
  {
   "cell_type": "code",
   "execution_count": 33,
   "metadata": {},
   "outputs": [
    {
     "name": "stdout",
     "output_type": "stream",
     "text": [
      "Hey, my name is Vanshika\n"
     ]
    }
   ],
   "source": [
    "from tkinter import *\n",
    "root = Tk()\n",
    "\n",
    "def print_name():                    ###### function to be used with command\n",
    "    print(\"Hey, my name is Vanshika\")\n",
    "\n",
    "button_1 = Button(root,text = \"Print my name\",command=print_name) ## with the help of \"command\". Imp--No parentheses after it\n",
    "button_1.pack()\n",
    "root.mainloop()"
   ]
  },
  {
   "cell_type": "markdown",
   "metadata": {},
   "source": [
    "### Another way to bind the function"
   ]
  },
  {
   "cell_type": "code",
   "execution_count": 36,
   "metadata": {},
   "outputs": [
    {
     "name": "stdout",
     "output_type": "stream",
     "text": [
      "Hey again, family and friends also call me Tara\n"
     ]
    }
   ],
   "source": [
    "from tkinter import *\n",
    "root = Tk()\n",
    "def printname(event): ## put down the word event inside function parenthesis\n",
    "    print(\"Hey again, family and friends also call me Tara\") \n",
    "\n",
    "Button_1 = Button(root,text=\"Print my nick name\")\n",
    "Button_1.bind('<Button-1>',printname) ## using the bind method\n",
    "Button_1.pack()\n",
    "root.mainloop()"
   ]
  },
  {
   "cell_type": "markdown",
   "metadata": {},
   "source": [
    "### Mouse click events"
   ]
  },
  {
   "cell_type": "code",
   "execution_count": 42,
   "metadata": {},
   "outputs": [
    {
     "name": "stdout",
     "output_type": "stream",
     "text": [
      "left\n",
      "left\n"
     ]
    }
   ],
   "source": [
    "from tkinter import *\n",
    "root = Tk()\n",
    "def leftclick(event):\n",
    "    print(\"left\")\n",
    "    \n",
    "def rightclick(event):\n",
    "    print(\"right\")\n",
    "\n",
    "frame = Frame(root, width=300, height=250)\n",
    "frame.bind('<Button-1>',leftclick)\n",
    "frame.bind('<Button-2>',rightclick)\n",
    "frame.pack()\n",
    "root.mainloop()\n"
   ]
  },
  {
   "cell_type": "markdown",
   "metadata": {},
   "source": [
    "### Using classes"
   ]
  },
  {
   "cell_type": "code",
   "execution_count": 2,
   "metadata": {},
   "outputs": [
    {
     "name": "stdout",
     "output_type": "stream",
     "text": [
      "Wow, this actually worked!\n"
     ]
    }
   ],
   "source": [
    "from tkinter import *\n",
    "\n",
    "class Vanshikasbuttons:\n",
    "    def __init__(self,master):\n",
    "        frame = Frame(master)\n",
    "        frame.pack()\n",
    "        self.printButton = Button(frame,text=\"Click here to print\",command = self.printMessage)\n",
    "        self.printButton.pack(side=LEFT)\n",
    "        self.quitButton = Button(frame,text=\"Quit\",command = frame.quit)\n",
    "        self.quitButton.pack(side=LEFT)\n",
    "    def printMessage(self):\n",
    "        print(\"Wow, this actually worked!\")\n",
    "        \n",
    "        \n",
    "root = Tk()\n",
    "v = Vanshikasbuttons(root)\n",
    "root.mainloop()"
   ]
  },
  {
   "cell_type": "markdown",
   "metadata": {},
   "source": [
    "### 1.Creating drop down menu\n",
    "### 2. Creating Toolbar\n"
   ]
  },
  {
   "cell_type": "code",
   "execution_count": 13,
   "metadata": {},
   "outputs": [
    {
     "name": "stdout",
     "output_type": "stream",
     "text": [
      "ok ok tested\n"
     ]
    }
   ],
   "source": [
    "from tkinter import *\n",
    "\n",
    "def do_nothing():\n",
    "    print(\"ok ok tested\")\n",
    "##################### main menu #############################\n",
    "root = Tk()\n",
    "menu = Menu(root)\n",
    "root.config(menu = menu)\n",
    "subMenu = Menu(menu)\n",
    "menu.add_cascade(label = 'file',menu = subMenu)\n",
    "subMenu.add_command(label='New Project...',command = do_nothing)\n",
    "subMenu.add_command(label='New...',command = do_nothing)\n",
    "subMenu.add_separator()\n",
    "subMenu.add_command(label='Exit...',command = do_nothing)\n",
    "\n",
    "editMenu = Menu(menu)\n",
    "menu.add_cascade(label=\"Edit\",menu = editMenu)\n",
    "editMenu.add_command(label = \"Redo\", command = do_nothing)\n",
    "\n",
    "\n",
    "########################## toolbar ###################\n",
    "toolbar = Frame(root,bg=\"blue\")\n",
    "insertBut = Button(toolbar,text=\"Insert Image\",command=do_nothing)\n",
    "insertBut.pack(side = LEFT, padx = 2, pady = 2)\n",
    "printBut = Button(toolbar, text = \"Insert Image\", command = do_nothing)\n",
    "printBut.pack(side=LEFT, padx=2, pady = 2)\n",
    "toolbar.pack(side= TOP, fill = X)\n",
    "\n",
    "\n",
    "root.mainloop()\n",
    "\n",
    "\n"
   ]
  },
  {
   "cell_type": "markdown",
   "metadata": {},
   "source": [
    "### Creating message boxes"
   ]
  },
  {
   "cell_type": "code",
   "execution_count": 17,
   "metadata": {},
   "outputs": [
    {
     "name": "stdout",
     "output_type": "stream",
     "text": [
      "I knew\n"
     ]
    }
   ],
   "source": [
    "from tkinter import *\n",
    "import tkinter.messagebox\n",
    "root = Tk()\n",
    "tkinter.messagebox.showinfo('Title','This is how checkboxes are created')\n",
    "answer = tkinter.messagebox.askquestion('Question 1','You think I am really funny, right?')\n",
    "if(answer == \"yes\"):\n",
    "    print(\"I knew\")\n",
    "else:\n",
    "    print(\"ok\")\n",
    "\n",
    "    \n",
    "root.mainloop()"
   ]
  },
  {
   "cell_type": "markdown",
   "metadata": {},
   "source": [
    "### Shapes and Graphics"
   ]
  },
  {
   "cell_type": "code",
   "execution_count": 18,
   "metadata": {},
   "outputs": [],
   "source": [
    "from tkinter import *\n",
    "root = Tk()\n",
    "canvas = Canvas(root,width =200,height = 100)\n",
    "canvas.pack()\n",
    "blackLine = canvas.create_line(0,0,200,50)\n",
    "redLine = canvas.create_line(0,100,200,50,fill=\"red\")\n",
    "greenBox = canvas.create_rectangle(25,25,130,60,fill=\"green\")\n",
    "root.mainloop()"
   ]
  },
  {
   "cell_type": "markdown",
   "metadata": {},
   "source": [
    "### Adding images/icons"
   ]
  },
  {
   "cell_type": "code",
   "execution_count": null,
   "metadata": {},
   "outputs": [],
   "source": [
    "photo = PhotoImage(file=\"#\")\n",
    "label = Label(root,image=photo)\n",
    "label.pack()"
   ]
  }
 ],
 "metadata": {
  "kernelspec": {
   "display_name": "Python 3",
   "language": "python",
   "name": "python3"
  },
  "language_info": {
   "codemirror_mode": {
    "name": "ipython",
    "version": 3
   },
   "file_extension": ".py",
   "mimetype": "text/x-python",
   "name": "python",
   "nbconvert_exporter": "python",
   "pygments_lexer": "ipython3",
   "version": "3.6.5"
  }
 },
 "nbformat": 4,
 "nbformat_minor": 2
}
